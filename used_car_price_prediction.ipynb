{
 "cells": [
  {
   "cell_type": "markdown",
   "metadata": {
    "id": "iAvWZftDUj5Y"
   },
   "source": [
    "# Used Car Price Prediction "
   ]
  },
  {
   "cell_type": "code",
   "execution_count": 2,
   "metadata": {
    "executionInfo": {
     "elapsed": 614,
     "status": "ok",
     "timestamp": 1624522793247,
     "user": {
      "displayName": "SANSKRITI SANJAY KUMAR SINGH 20BCE1415",
      "photoUrl": "",
      "userId": "06048184602934112549"
     },
     "user_tz": -240
    },
    "id": "xIwLw_JMFL4f"
   },
   "outputs": [],
   "source": [
    "import warnings\n",
    "warnings.filterwarnings('ignore')"
   ]
  },
  {
   "cell_type": "markdown",
   "metadata": {
    "id": "UgJobzq10OsI"
   },
   "source": [
    "## Installing Necessary Libraries and Packages"
   ]
  },
  {
   "cell_type": "code",
   "execution_count": 5,
   "metadata": {
    "executionInfo": {
     "elapsed": 954,
     "status": "ok",
     "timestamp": 1624522846934,
     "user": {
      "displayName": "SANSKRITI SANJAY KUMAR SINGH 20BCE1415",
      "photoUrl": "",
      "userId": "06048184602934112549"
     },
     "user_tz": -240
    },
    "id": "1pgN1TBSanwD"
   },
   "outputs": [],
   "source": [
    "import pandas as pd\n",
    "import numpy as np\n",
    "import datetime\n",
    "import pickle\n",
    "from sklearn import preprocessing\n",
    "from sklearn.linear_model import Lasso\n",
    "from sklearn.linear_model import Ridge\n",
    "from sklearn.model_selection import train_test_split\n",
    "from sklearn.preprocessing import StandardScaler, Normalizer\n",
    "from spark_sklearn import GridSearchCV\n",
    "from spark_sklearn.util import createLocalSparkSession\n",
    "from sklearn.model_selection import cross_val_score\n",
    "from sklearn.metrics import mean_squared_error"
   ]
  },
  {
   "cell_type": "markdown",
   "metadata": {
    "id": "trR39NIdWYEz"
   },
   "source": [
    "## Importing & Reading CSV File \n"
   ]
  },
  {
   "cell_type": "code",
   "execution_count": 6,
   "metadata": {
    "colab": {
     "base_uri": "https://localhost:8080/",
     "height": 73,
     "resources": {
      "http://localhost:8080/nbextensions/google.colab/files.js": {
       "data": "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",
       "headers": [
        [
         "content-type",
         "application/javascript"
        ]
       ],
       "ok": true,
       "status": 200,
       "status_text": ""
      }
     }
    },
    "executionInfo": {
     "elapsed": 1214515,
     "status": "ok",
     "timestamp": 1624524061444,
     "user": {
      "displayName": "SANSKRITI SANJAY KUMAR SINGH 20BCE1415",
      "photoUrl": "",
      "userId": "06048184602934112549"
     },
     "user_tz": -240
    },
    "id": "wl7VHIbmEeMk",
    "outputId": "709e05f9-9fd5-427d-e222-c64932d9f271"
   },
   "outputs": [
    {
     "data": {
      "text/html": [
       "\n",
       "     <input type=\"file\" id=\"files-70e20ea4-2b6f-4a22-842a-2ec284bd14da\" name=\"files[]\" multiple disabled\n",
       "        style=\"border:none\" />\n",
       "     <output id=\"result-70e20ea4-2b6f-4a22-842a-2ec284bd14da\">\n",
       "      Upload widget is only available when the cell has been executed in the\n",
       "      current browser session. Please rerun this cell to enable.\n",
       "      </output>\n",
       "      <script src=\"/nbextensions/google.colab/files.js\"></script> "
      ],
      "text/plain": [
       "<IPython.core.display.HTML object>"
      ]
     },
     "metadata": {
      "tags": []
     },
     "output_type": "display_data"
    },
    {
     "name": "stdout",
     "output_type": "stream",
     "text": [
      "Saving cars_outliers_removed.csv to cars_outliers_removed.csv\n"
     ]
    }
   ],
   "source": [
    "'''\n",
    "Partial data preprocessing for the dataset being imported (cars_outliers_removed.csv)\n",
    "has already been done (i.e. the dataset has dropped the missing & duplicate \n",
    "values, been standardized and outliers have been removed by model).\n",
    "\n",
    "Also, from the data analysis that has already been done on the dataset, it has \n",
    "been found that the features Id, State, Vin and City can be discarded since they \n",
    "have very weak to no correlation with the Price attribute (i.e. the dependent variable)\n",
    "and hence these attributes need to be dropped.\n",
    "'''\n",
    "\n",
    "# Importing the csv file i.e. dataset from Local System into Google Colaboratory\n",
    "from google.colab import files\n",
    "uploaded=files.upload()"
   ]
  },
  {
   "cell_type": "code",
   "execution_count": 7,
   "metadata": {
    "executionInfo": {
     "elapsed": 882,
     "status": "ok",
     "timestamp": 1624524062307,
     "user": {
      "displayName": "SANSKRITI SANJAY KUMAR SINGH 20BCE1415",
      "photoUrl": "",
      "userId": "06048184602934112549"
     },
     "user_tz": -240
    },
    "id": "_YLJ6INJjAXD"
   },
   "outputs": [],
   "source": [
    "# Reading the dataset\n",
    "cleaned_cars = pd.read_csv('cars_outliers_removed.csv', encoding='latin1', error_bad_lines=False,warn_bad_lines=False)"
   ]
  },
  {
   "cell_type": "code",
   "execution_count": 8,
   "metadata": {
    "colab": {
     "base_uri": "https://localhost:8080/",
     "height": 255
    },
    "executionInfo": {
     "elapsed": 13,
     "status": "ok",
     "timestamp": 1624524062309,
     "user": {
      "displayName": "SANSKRITI SANJAY KUMAR SINGH 20BCE1415",
      "photoUrl": "",
      "userId": "06048184602934112549"
     },
     "user_tz": -240
    },
    "id": "eaOI8KaVNBZv",
    "outputId": "e5b1f3d2-4e44-4f4f-d02d-05d37d1b0963"
   },
   "outputs": [
    {
     "data": {
      "text/html": [
       "<div>\n",
       "<style scoped>\n",
       "    .dataframe tbody tr th:only-of-type {\n",
       "        vertical-align: middle;\n",
       "    }\n",
       "\n",
       "    .dataframe tbody tr th {\n",
       "        vertical-align: top;\n",
       "    }\n",
       "\n",
       "    .dataframe thead th {\n",
       "        text-align: right;\n",
       "    }\n",
       "</style>\n",
       "<table border=\"1\" class=\"dataframe\">\n",
       "  <thead>\n",
       "    <tr style=\"text-align: right;\">\n",
       "      <th></th>\n",
       "      <th>Unnamed: 0</th>\n",
       "      <th>Id</th>\n",
       "      <th>Price</th>\n",
       "      <th>Year</th>\n",
       "      <th>Mileage</th>\n",
       "      <th>City</th>\n",
       "      <th>State</th>\n",
       "      <th>Vin</th>\n",
       "      <th>Make</th>\n",
       "      <th>Model</th>\n",
       "    </tr>\n",
       "  </thead>\n",
       "  <tbody>\n",
       "    <tr>\n",
       "      <th>688659</th>\n",
       "      <td>688659</td>\n",
       "      <td>830574</td>\n",
       "      <td>4850</td>\n",
       "      <td>2006</td>\n",
       "      <td>188401</td>\n",
       "      <td>Auburn</td>\n",
       "      <td>WA</td>\n",
       "      <td>KM8JN12DX6U393613</td>\n",
       "      <td>Hyundai</td>\n",
       "      <td>Tucson4dr</td>\n",
       "    </tr>\n",
       "    <tr>\n",
       "      <th>217990</th>\n",
       "      <td>217990</td>\n",
       "      <td>644961</td>\n",
       "      <td>16590</td>\n",
       "      <td>2013</td>\n",
       "      <td>92683</td>\n",
       "      <td>Englewood</td>\n",
       "      <td>CO</td>\n",
       "      <td>2FMDK4JC8DBA44551</td>\n",
       "      <td>Ford</td>\n",
       "      <td>EdgeSEL</td>\n",
       "    </tr>\n",
       "    <tr>\n",
       "      <th>420102</th>\n",
       "      <td>420102</td>\n",
       "      <td>948979</td>\n",
       "      <td>12500</td>\n",
       "      <td>2010</td>\n",
       "      <td>92788</td>\n",
       "      <td>Southern Pines</td>\n",
       "      <td>NC</td>\n",
       "      <td>2LMDJ6JC5ABJ31726</td>\n",
       "      <td>Lincoln</td>\n",
       "      <td>MKXFWD</td>\n",
       "    </tr>\n",
       "    <tr>\n",
       "      <th>454591</th>\n",
       "      <td>454591</td>\n",
       "      <td>994700</td>\n",
       "      <td>52995</td>\n",
       "      <td>2014</td>\n",
       "      <td>49125</td>\n",
       "      <td>Burlington</td>\n",
       "      <td>NJ</td>\n",
       "      <td>WDDUG8CB6EA006322</td>\n",
       "      <td>Mercedes-Benz</td>\n",
       "      <td>S-ClassS550</td>\n",
       "    </tr>\n",
       "    <tr>\n",
       "      <th>150695</th>\n",
       "      <td>150695</td>\n",
       "      <td>574241</td>\n",
       "      <td>15988</td>\n",
       "      <td>2014</td>\n",
       "      <td>42241</td>\n",
       "      <td>Chesapeake</td>\n",
       "      <td>VA</td>\n",
       "      <td>2C4RDGCG0ER429486</td>\n",
       "      <td>Dodge</td>\n",
       "      <td>Grand</td>\n",
       "    </tr>\n",
       "  </tbody>\n",
       "</table>\n",
       "</div>"
      ],
      "text/plain": [
       "        Unnamed: 0      Id  ...           Make        Model\n",
       "688659      688659  830574  ...        Hyundai    Tucson4dr\n",
       "217990      217990  644961  ...           Ford      EdgeSEL\n",
       "420102      420102  948979  ...        Lincoln       MKXFWD\n",
       "454591      454591  994700  ...  Mercedes-Benz  S-ClassS550\n",
       "150695      150695  574241  ...          Dodge        Grand\n",
       "\n",
       "[5 rows x 10 columns]"
      ]
     },
     "execution_count": 8,
     "metadata": {
      "tags": []
     },
     "output_type": "execute_result"
    }
   ],
   "source": [
    "cleaned_cars.sample(5)"
   ]
  },
  {
   "cell_type": "markdown",
   "metadata": {
    "id": "KtH7OvzOydjU"
   },
   "source": [
    "## Preprocessing"
   ]
  },
  {
   "cell_type": "markdown",
   "metadata": {
    "id": "ouPPnVi5Oqov"
   },
   "source": [
    "### Outlier Management (to remove the remaining outliers)"
   ]
  },
  {
   "cell_type": "code",
   "execution_count": 9,
   "metadata": {
    "colab": {
     "base_uri": "https://localhost:8080/"
    },
    "executionInfo": {
     "elapsed": 608,
     "status": "ok",
     "timestamp": 1624524062908,
     "user": {
      "displayName": "SANSKRITI SANJAY KUMAR SINGH 20BCE1415",
      "photoUrl": "",
      "userId": "06048184602934112549"
     },
     "user_tz": -240
    },
    "id": "tdra3dND7n9E",
    "outputId": "6d51e46a-87c6-427e-af62-ae9183eed098"
   },
   "outputs": [
    {
     "name": "stdout",
     "output_type": "stream",
     "text": [
      "Too new: 71946\n",
      "Too few km:  14055\n",
      "Too many km:  374\n"
     ]
    }
   ],
   "source": [
    "print(\"Too new: %d\" % cleaned_cars.loc[cleaned_cars.Year >= 2017].count()['Id'])\n",
    "print(\"Too few km: \" , cleaned_cars.loc[cleaned_cars.Mileage < 5000].count()['Id'])\n",
    "print(\"Too many km: \" , cleaned_cars.loc[cleaned_cars.Mileage > 250000].count()['Id'])"
   ]
  },
  {
   "cell_type": "code",
   "execution_count": 10,
   "metadata": {
    "executionInfo": {
     "elapsed": 14,
     "status": "ok",
     "timestamp": 1624524062909,
     "user": {
      "displayName": "SANSKRITI SANJAY KUMAR SINGH 20BCE1415",
      "photoUrl": "",
      "userId": "06048184602934112549"
     },
     "user_tz": -240
    },
    "id": "U3zJ8VhJJ5W6"
   },
   "outputs": [],
   "source": [
    "#Dropping the unuseful attributes \n",
    "cleaned_cars = cleaned_cars.drop([\"Id\", \"State\", \"Vin\", \"City\"], axis=1)\n",
    "\n",
    "# Replacing the NaN values for categoric attributes\n",
    "cleaned_cars['Make'].fillna(value='blank', inplace=True)\n",
    "cleaned_cars['Model'].fillna(value='blank', inplace=True)\n",
    "\n",
    "# Dropping the duplicates\n",
    "cleaned_cars = cleaned_cars.drop_duplicates([\"Year\", \"Mileage\", \"Price\", \"Make\", \"Model\"])\n",
    "\n",
    "# Removing the outliers\n",
    "cleaned_cars = cleaned_cars[\n",
    "        (cleaned_cars.Year <= 2017) \n",
    "      & (cleaned_cars.Year >= 2008)  \n",
    "      & (cleaned_cars.Mileage >= 5000) \n",
    "      & (cleaned_cars.Mileage <= 250000)]\n",
    "\n",
    "# Removing the extra column\n",
    "cleaned_cars = cleaned_cars.drop([\"Unnamed: 0\"], axis=1)"
   ]
  },
  {
   "cell_type": "code",
   "execution_count": 11,
   "metadata": {
    "colab": {
     "base_uri": "https://localhost:8080/",
     "height": 204
    },
    "executionInfo": {
     "elapsed": 13,
     "status": "ok",
     "timestamp": 1624524062909,
     "user": {
      "displayName": "SANSKRITI SANJAY KUMAR SINGH 20BCE1415",
      "photoUrl": "",
      "userId": "06048184602934112549"
     },
     "user_tz": -240
    },
    "id": "ltSe37vDcYxj",
    "outputId": "af186ad7-dc2a-47a5-b32b-f7ff4a3dd62c"
   },
   "outputs": [
    {
     "data": {
      "text/html": [
       "<div>\n",
       "<style scoped>\n",
       "    .dataframe tbody tr th:only-of-type {\n",
       "        vertical-align: middle;\n",
       "    }\n",
       "\n",
       "    .dataframe tbody tr th {\n",
       "        vertical-align: top;\n",
       "    }\n",
       "\n",
       "    .dataframe thead th {\n",
       "        text-align: right;\n",
       "    }\n",
       "</style>\n",
       "<table border=\"1\" class=\"dataframe\">\n",
       "  <thead>\n",
       "    <tr style=\"text-align: right;\">\n",
       "      <th></th>\n",
       "      <th>Price</th>\n",
       "      <th>Year</th>\n",
       "      <th>Mileage</th>\n",
       "      <th>Make</th>\n",
       "      <th>Model</th>\n",
       "    </tr>\n",
       "  </thead>\n",
       "  <tbody>\n",
       "    <tr>\n",
       "      <th>169494</th>\n",
       "      <td>14999</td>\n",
       "      <td>2014</td>\n",
       "      <td>49068</td>\n",
       "      <td>Dodge</td>\n",
       "      <td>JourneySXT</td>\n",
       "    </tr>\n",
       "    <tr>\n",
       "      <th>372218</th>\n",
       "      <td>12289</td>\n",
       "      <td>2017</td>\n",
       "      <td>41718</td>\n",
       "      <td>Kia</td>\n",
       "      <td>ForteLX</td>\n",
       "    </tr>\n",
       "    <tr>\n",
       "      <th>129325</th>\n",
       "      <td>16986</td>\n",
       "      <td>2015</td>\n",
       "      <td>26408</td>\n",
       "      <td>Chrysler</td>\n",
       "      <td>200S</td>\n",
       "    </tr>\n",
       "    <tr>\n",
       "      <th>60299</th>\n",
       "      <td>12500</td>\n",
       "      <td>2015</td>\n",
       "      <td>22032</td>\n",
       "      <td>Chevrolet</td>\n",
       "      <td>Cruze1LT</td>\n",
       "    </tr>\n",
       "    <tr>\n",
       "      <th>158665</th>\n",
       "      <td>25800</td>\n",
       "      <td>2015</td>\n",
       "      <td>47844</td>\n",
       "      <td>Jeep</td>\n",
       "      <td>Grand</td>\n",
       "    </tr>\n",
       "  </tbody>\n",
       "</table>\n",
       "</div>"
      ],
      "text/plain": [
       "        Price  Year  Mileage       Make       Model\n",
       "169494  14999  2014    49068      Dodge  JourneySXT\n",
       "372218  12289  2017    41718        Kia     ForteLX\n",
       "129325  16986  2015    26408   Chrysler        200S\n",
       "60299   12500  2015    22032  Chevrolet    Cruze1LT\n",
       "158665  25800  2015    47844       Jeep       Grand"
      ]
     },
     "execution_count": 11,
     "metadata": {
      "tags": []
     },
     "output_type": "execute_result"
    }
   ],
   "source": [
    "# Sample of the final dataset to be used \n",
    "cleaned_cars.sample(5)"
   ]
  },
  {
   "cell_type": "markdown",
   "metadata": {
    "id": "K0ETXO1uRbeb"
   },
   "source": [
    "### Normalizing price distribution"
   ]
  },
  {
   "cell_type": "code",
   "execution_count": 12,
   "metadata": {
    "executionInfo": {
     "elapsed": 11,
     "status": "ok",
     "timestamp": 1624524062910,
     "user": {
      "displayName": "SANSKRITI SANJAY KUMAR SINGH 20BCE1415",
      "photoUrl": "",
      "userId": "06048184602934112549"
     },
     "user_tz": -240
    },
    "id": "XbPsS5UCfKbz"
   },
   "outputs": [],
   "source": [
    "# Applying log transformation \n",
    "cleaned_cars['Price'] = np.log(cleaned_cars['Price'])"
   ]
  },
  {
   "cell_type": "markdown",
   "metadata": {
    "id": "CIEFdlIlRWVv"
   },
   "source": [
    "### Label Encoding"
   ]
  },
  {
   "cell_type": "code",
   "execution_count": 13,
   "metadata": {
    "executionInfo": {
     "elapsed": 1975,
     "status": "ok",
     "timestamp": 1624524064875,
     "user": {
      "displayName": "SANSKRITI SANJAY KUMAR SINGH 20BCE1415",
      "photoUrl": "",
      "userId": "06048184602934112549"
     },
     "user_tz": -240
    },
    "id": "IvUFGtI_Da56"
   },
   "outputs": [],
   "source": [
    "features = ['Make', 'Model']\n",
    "les = {}\n",
    "\n",
    "for f in features:\n",
    "  les[f] = preprocessing.LabelEncoder()\n",
    "  les[f] = les[f].fit(cleaned_cars[f])\n",
    "  cleaned_cars[f] = les[f].transform(cleaned_cars[f])"
   ]
  },
  {
   "cell_type": "markdown",
   "metadata": {
    "id": "YZDwS1rZRo4Y"
   },
   "source": [
    "### Train/Test Split"
   ]
  },
  {
   "cell_type": "code",
   "execution_count": 14,
   "metadata": {
    "executionInfo": {
     "elapsed": 11,
     "status": "ok",
     "timestamp": 1624524064876,
     "user": {
      "displayName": "SANSKRITI SANJAY KUMAR SINGH 20BCE1415",
      "photoUrl": "",
      "userId": "06048184602934112549"
     },
     "user_tz": -240
    },
    "id": "8REvWnjGcgBA"
   },
   "outputs": [],
   "source": [
    "# Splitting the dataset into training set(66% of total) and test set(33% of total)\n",
    "train_set, test_set = train_test_split(cleaned_cars, test_size = 0.33, random_state = 42)\n",
    "\n",
    "# Separating target labels from the rest\n",
    "cars_train = train_set.drop(\"Price\", axis=1) #train without target\n",
    "cars_price_train = train_set[\"Price\"].copy() #target\n",
    "\n",
    "cars_test  = test_set.drop(\"Price\", axis=1) #test without target\n",
    "cars_price_test = test_set[\"Price\"].copy() #target\n"
   ]
  },
  {
   "cell_type": "markdown",
   "metadata": {
    "id": "fXGju-CE6t6Z"
   },
   "source": [
    "## Training and Evaluating Model"
   ]
  },
  {
   "cell_type": "markdown",
   "metadata": {
    "id": "gFW398Q3yr79"
   },
   "source": [
    "### Function Definitions"
   ]
  },
  {
   "cell_type": "markdown",
   "metadata": {
    "id": "1jpKZENoSUMn"
   },
   "source": [
    "#### Best Score Function"
   ]
  },
  {
   "cell_type": "code",
   "execution_count": 15,
   "metadata": {
    "executionInfo": {
     "elapsed": 10,
     "status": "ok",
     "timestamp": 1624524064876,
     "user": {
      "displayName": "SANSKRITI SANJAY KUMAR SINGH 20BCE1415",
      "photoUrl": "",
      "userId": "06048184602934112549"
     },
     "user_tz": -240
    },
    "id": "YjiPl2APkGm1"
   },
   "outputs": [],
   "source": [
    "# This function returns the best score achieved by the model over all the cv splits.\n",
    "\n",
    "def best_score(forest, cv):\n",
    "  best_score = 0\n",
    "  for i in range(0, cv):\n",
    "    items = list(map(lambda x: abs(x), forest.cv_results_['split'+str(i)+'_test_score']))\n",
    "    arr = np.append(best_score, items)\n",
    "    best_score = max(arr)\n",
    "  return best_score"
   ]
  },
  {
   "cell_type": "markdown",
   "metadata": {
    "id": "OUdbwdqUSmWP"
   },
   "source": [
    "#### Best Parameters Function"
   ]
  },
  {
   "cell_type": "code",
   "execution_count": 16,
   "metadata": {
    "executionInfo": {
     "elapsed": 10,
     "status": "ok",
     "timestamp": 1624524064877,
     "user": {
      "displayName": "SANSKRITI SANJAY KUMAR SINGH 20BCE1415",
      "photoUrl": "",
      "userId": "06048184602934112549"
     },
     "user_tz": -240
    },
    "id": "0CsOEWBYkO6L"
   },
   "outputs": [],
   "source": [
    "# This functions returns the best combination of parameters, which allows us to\n",
    "# get the best score.\n",
    "\n",
    "def best_params(forest):\n",
    "  return forest.cv_results_['params'][forest.cv_results_['rank_test_score'][0]-1]"
   ]
  },
  {
   "cell_type": "markdown",
   "metadata": {
    "id": "_9asL8wxS5pA"
   },
   "source": [
    "#### Performance Metric Function"
   ]
  },
  {
   "cell_type": "code",
   "execution_count": 17,
   "metadata": {
    "executionInfo": {
     "elapsed": 9,
     "status": "ok",
     "timestamp": 1624524064877,
     "user": {
      "displayName": "SANSKRITI SANJAY KUMAR SINGH 20BCE1415",
      "photoUrl": "",
      "userId": "06048184602934112549"
     },
     "user_tz": -240
    },
    "id": "i1v3ZqmoBMsT"
   },
   "outputs": [],
   "source": [
    "# Calculates and returns the performance score between true (y_true) and \n",
    "# predicted (y_predict) values based on the metric chosen.\n",
    "\n",
    "from sklearn.metrics import r2_score\n",
    "\n",
    "def performance_metric(y_true, y_predict):\n",
    "   score = r2_score(y_true, y_predict)\n",
    "   return score"
   ]
  },
  {
   "cell_type": "markdown",
   "metadata": {
    "id": "0FgggqAoQg7r"
   },
   "source": [
    "### Linear Regression"
   ]
  },
  {
   "cell_type": "code",
   "execution_count": 18,
   "metadata": {
    "executionInfo": {
     "elapsed": 9,
     "status": "ok",
     "timestamp": 1624524064878,
     "user": {
      "displayName": "SANSKRITI SANJAY KUMAR SINGH 20BCE1415",
      "photoUrl": "",
      "userId": "06048184602934112549"
     },
     "user_tz": -240
    },
    "id": "6TDgn4e8cx_T"
   },
   "outputs": [],
   "source": [
    "from sklearn.preprocessing import Imputer\n",
    "from sklearn.preprocessing import OneHotEncoder\n",
    "from sklearn.pipeline import Pipeline\n",
    "from sklearn.pipeline import FeatureUnion\n",
    "from sklearn.preprocessing import StandardScaler\n",
    "from sklearn.base import BaseEstimator, TransformerMixin\n",
    "\n",
    "import os\n",
    "\n",
    "# Class DFSelector created to select numerical or categorical columns \n",
    "# since Scikit-Learn doesn't handle DataFrames.\n",
    "\n",
    "class DFSelector(BaseEstimator, TransformerMixin):\n",
    "    def __init__(self, feature_names):\n",
    "        self.feature_names = feature_names\n",
    "    def fit(self, X, y=None):\n",
    "        return self\n",
    "    def transform(self, X):\n",
    "        return X[self.feature_names].values"
   ]
  },
  {
   "cell_type": "code",
   "execution_count": 19,
   "metadata": {
    "executionInfo": {
     "elapsed": 9,
     "status": "ok",
     "timestamp": 1624524064878,
     "user": {
      "displayName": "SANSKRITI SANJAY KUMAR SINGH 20BCE1415",
      "photoUrl": "",
      "userId": "06048184602934112549"
     },
     "user_tz": -240
    },
    "id": "BzvviQOKc-bZ"
   },
   "outputs": [],
   "source": [
    "# Setting categorical and numerical attributes\n",
    "cat_features = [\"Make\", \"Model\"]\n",
    "num_features = list(cars_train.drop(cat_features, axis=1))\n",
    "\n",
    "# Building the Pipelines for categorical and numerical dataframes\n",
    "\n",
    "numerical_pipeline = Pipeline([\n",
    "    (\"selector\", DFSelector(num_features)),\n",
    "    (\"std_scaler\", StandardScaler())\n",
    "])\n",
    "\n",
    "categorical_pipeline = Pipeline([\n",
    "    (\"selector\", DFSelector(cat_features)),\n",
    "    (\"encoder\", OneHotEncoder(sparse=True))\n",
    "])\n",
    "\n",
    "# Full Pipeline\n",
    "full_pipeline = FeatureUnion(transformer_list =[\n",
    "    (\"num_pipeline\", numerical_pipeline),\n",
    "    (\"cat_pipeline\", categorical_pipeline)\n",
    "])"
   ]
  },
  {
   "cell_type": "code",
   "execution_count": 20,
   "metadata": {
    "executionInfo": {
     "elapsed": 5,
     "status": "ok",
     "timestamp": 1624524065243,
     "user": {
      "displayName": "SANSKRITI SANJAY KUMAR SINGH 20BCE1415",
      "photoUrl": "",
      "userId": "06048184602934112549"
     },
     "user_tz": -240
    },
    "id": "Vtgxb0hVdHHR"
   },
   "outputs": [],
   "source": [
    "# Applying the full pipeline on the training set\n",
    "ohe_cars_train = full_pipeline.fit_transform(cars_train) "
   ]
  },
  {
   "cell_type": "code",
   "execution_count": 21,
   "metadata": {
    "colab": {
     "base_uri": "https://localhost:8080/"
    },
    "executionInfo": {
     "elapsed": 184918,
     "status": "ok",
     "timestamp": 1624524250157,
     "user": {
      "displayName": "SANSKRITI SANJAY KUMAR SINGH 20BCE1415",
      "photoUrl": "",
      "userId": "06048184602934112549"
     },
     "user_tz": -240
    },
    "id": "-Ch9sxrXdMcy",
    "outputId": "6ee64cbc-6fb5-49c5-fd0b-3b58273494f4"
   },
   "outputs": [
    {
     "name": "stdout",
     "output_type": "stream",
     "text": [
      "Fitting 3 folds for each of 4 candidates, totalling 12 fits\n"
     ]
    }
   ],
   "source": [
    "from sklearn.linear_model import LinearRegression\n",
    "\n",
    "sc = createLocalSparkSession().sparkContext\n",
    "\n",
    "model = LinearRegression()\n",
    "parameters = {'fit_intercept':[False], 'normalize':[True,False], 'copy_X':[True, False]}\n",
    "\n",
    "# Spark parallelized GridSearchCV for hyperparameter tuning\n",
    "gs = GridSearchCV(sc, estimator=model, param_grid=parameters, cv=3, n_jobs=-1, verbose=1, return_train_score=True)\n",
    "lin_reg = gs.fit(ohe_cars_train, cars_price_train)"
   ]
  },
  {
   "cell_type": "code",
   "execution_count": 22,
   "metadata": {
    "colab": {
     "base_uri": "https://localhost:8080/"
    },
    "executionInfo": {
     "elapsed": 22688,
     "status": "ok",
     "timestamp": 1624524272826,
     "user": {
      "displayName": "SANSKRITI SANJAY KUMAR SINGH 20BCE1415",
      "photoUrl": "",
      "userId": "06048184602934112549"
     },
     "user_tz": -240
    },
    "id": "hW0jL8ICjgg0",
    "outputId": "4559254a-817d-4380-e7f1-eef479b0d71d"
   },
   "outputs": [
    {
     "name": "stdout",
     "output_type": "stream",
     "text": [
      "CPU times: user 23 s, sys: 19.3 s, total: 42.3 s\n",
      "Wall time: 21.6 s\n"
     ]
    },
    {
     "data": {
      "text/plain": [
       "LinearRegression(copy_X=True, fit_intercept=False, n_jobs=1, normalize=True)"
      ]
     },
     "execution_count": 22,
     "metadata": {
      "tags": []
     },
     "output_type": "execute_result"
    }
   ],
   "source": [
    "# Best CV parameters\n",
    "bp = best_params(lin_reg)\n",
    "best_params(lin_reg)\n",
    "\n",
    "lin_reg_model = LinearRegression(\n",
    "                              fit_intercept=bp[\"fit_intercept\"],\n",
    "                              normalize=bp[\"normalize\"],\n",
    "                              copy_X=bp[\"copy_X\"])\n",
    "%time lin_reg_model.fit(ohe_cars_train, cars_price_train)"
   ]
  },
  {
   "cell_type": "code",
   "execution_count": 23,
   "metadata": {
    "colab": {
     "base_uri": "https://localhost:8080/"
    },
    "executionInfo": {
     "elapsed": 39,
     "status": "ok",
     "timestamp": 1624524272826,
     "user": {
      "displayName": "SANSKRITI SANJAY KUMAR SINGH 20BCE1415",
      "photoUrl": "",
      "userId": "06048184602934112549"
     },
     "user_tz": -240
    },
    "id": "u4_7rCKPsyNw",
    "outputId": "fcce9c5c-77b4-4933-9443-3927f04b71b4"
   },
   "outputs": [
    {
     "name": "stdout",
     "output_type": "stream",
     "text": [
      "Best Linear Regression parameters:\n",
      "{'copy_X': True, 'fit_intercept': False, 'normalize': True}\n",
      "\n",
      "Linear Regressor score without CV on train set: 0.948\n",
      "Linear Regression score without CV on test set: 0.947\n",
      "Linear Regression Best score with CV=3: 0.944\n"
     ]
    }
   ],
   "source": [
    "# Linear Regression score for price prediction\n",
    "ohe_cars_test = full_pipeline.transform(cars_test)\n",
    "\n",
    "print(\"Best Linear Regression parameters:\")\n",
    "print(bp)\n",
    "print(\"\\nLinear Regressor score without CV on train set: %.3f\" % lin_reg_model.score(ohe_cars_train, cars_price_train)) #score on train set\n",
    "print(\"Linear Regression score without CV on test set: %.3f\" % lin_reg_model.score(ohe_cars_test, cars_price_test)) # score on test set\n",
    "print(\"Linear Regression Best score with CV=3: %.3f\" % best_score(lin_reg, 3)) # -> best score on test set is high"
   ]
  },
  {
   "cell_type": "code",
   "execution_count": 24,
   "metadata": {
    "colab": {
     "base_uri": "https://localhost:8080/"
    },
    "executionInfo": {
     "elapsed": 27,
     "status": "ok",
     "timestamp": 1624524272827,
     "user": {
      "displayName": "SANSKRITI SANJAY KUMAR SINGH 20BCE1415",
      "photoUrl": "",
      "userId": "06048184602934112549"
     },
     "user_tz": -240
    },
    "id": "4R_9IuzgdbiB",
    "outputId": "5fd80e84-b25c-451d-bf0e-07e6d9630dbf"
   },
   "outputs": [
    {
     "data": {
      "text/plain": [
       "2361.212103512848"
      ]
     },
     "execution_count": 24,
     "metadata": {
      "tags": []
     },
     "output_type": "execute_result"
    }
   ],
   "source": [
    "# Prediction on the whole training set\n",
    "from sklearn.metrics import mean_squared_error\n",
    "\n",
    "price_predictions_train = lin_reg_model.predict(ohe_cars_train) \n",
    "\n",
    "# Reversing np.log operation (was done when the price attribute was normalized)\n",
    "price_predictions_train_normal = np.exp(price_predictions_train)\n",
    "cars_price_train_normal = np.exp(cars_price_train)\n",
    "\n",
    "# MSE between target values (i.e price) and predicted values\n",
    "lin_mse = mean_squared_error(cars_price_train_normal, price_predictions_train_normal)\n",
    "lin_rmse = np.sqrt(lin_mse)\n",
    "lin_rmse "
   ]
  },
  {
   "cell_type": "code",
   "execution_count": 25,
   "metadata": {
    "colab": {
     "base_uri": "https://localhost:8080/"
    },
    "executionInfo": {
     "elapsed": 24,
     "status": "ok",
     "timestamp": 1624524272827,
     "user": {
      "displayName": "SANSKRITI SANJAY KUMAR SINGH 20BCE1415",
      "photoUrl": "",
      "userId": "06048184602934112549"
     },
     "user_tz": -240
    },
    "id": "GIrfcKVElIRc",
    "outputId": "697e875d-76c5-4512-9b7e-edadc77ddcc8"
   },
   "outputs": [
    {
     "name": "stdout",
     "output_type": "stream",
     "text": [
      "[16456.0012509  29733.54045406 13460.80264209 26743.80331393\n",
      " 27811.42135111 14289.70104336 21386.21090102 21667.23741894\n",
      " 24194.97259724 31464.62567763]\n",
      "\n",
      "\n",
      "[17900.000000000007, 27785.99999999998, 13998.999999999996, 29995.000000000015, 28699.999999999996, 12947.999999999993, 21992.00000000002, 19995.00000000002, 25204.99999999998, 36000.00000000002]\n"
     ]
    }
   ],
   "source": [
    "print(price_predictions_train_normal[580:590])\n",
    "print('\\n')\n",
    "print(list(cars_price_train_normal[580:590]))"
   ]
  },
  {
   "cell_type": "code",
   "execution_count": 26,
   "metadata": {
    "colab": {
     "base_uri": "https://localhost:8080/"
    },
    "executionInfo": {
     "elapsed": 21,
     "status": "ok",
     "timestamp": 1624524272827,
     "user": {
      "displayName": "SANSKRITI SANJAY KUMAR SINGH 20BCE1415",
      "photoUrl": "",
      "userId": "06048184602934112549"
     },
     "user_tz": -240
    },
    "id": "TkZnk4OKdd7z",
    "outputId": "de3f3d8a-b419-41b4-8eb9-affa4d63d900"
   },
   "outputs": [
    {
     "data": {
      "text/plain": [
       "2450.7668485224413"
      ]
     },
     "execution_count": 26,
     "metadata": {
      "tags": []
     },
     "output_type": "execute_result"
    }
   ],
   "source": [
    "# Prediction on test set\n",
    "price_predictions_test = lin_reg_model.predict(ohe_cars_test)\n",
    "\n",
    "# Reversing np.log operation \n",
    "price_predictions_test_normal = np.exp(price_predictions_test)\n",
    "cars_price_test_normal = np.exp(cars_price_test)\n",
    "\n",
    "final_mse = mean_squared_error(cars_price_test_normal, price_predictions_test_normal)\n",
    "final_rmse = np.sqrt(final_mse)\n",
    "\n",
    "final_rmse"
   ]
  },
  {
   "cell_type": "code",
   "execution_count": 27,
   "metadata": {
    "colab": {
     "base_uri": "https://localhost:8080/"
    },
    "executionInfo": {
     "elapsed": 17,
     "status": "ok",
     "timestamp": 1624524272827,
     "user": {
      "displayName": "SANSKRITI SANJAY KUMAR SINGH 20BCE1415",
      "photoUrl": "",
      "userId": "06048184602934112549"
     },
     "user_tz": -240
    },
    "id": "4W3--eKhgNcU",
    "outputId": "3f86e1e0-7a06-4c65-cee0-e8fee72265a8"
   },
   "outputs": [
    {
     "name": "stdout",
     "output_type": "stream",
     "text": [
      "[19376.86848468 30242.44523216 40573.57759926 30227.9027336\n",
      " 24661.87767341 21181.83979224 37891.16627097 15743.47274119\n",
      " 16088.42071314 17888.54186287]\n",
      "\n",
      "\n",
      "[18300.000000000015, 33879.0, 42499.99999999999, 29000.00000000001, 25991.0, 21987.000000000015, 22496.999999999985, 16796.99999999999, 15999.00000000001, 18200.000000000004]\n"
     ]
    }
   ],
   "source": [
    "print(price_predictions_test_normal[7650:7660]) #predictions on test set\n",
    "print('\\n')\n",
    "print(list(cars_price_test_normal[7650:7660])) #known values in test set"
   ]
  },
  {
   "cell_type": "code",
   "execution_count": 28,
   "metadata": {
    "colab": {
     "base_uri": "https://localhost:8080/"
    },
    "executionInfo": {
     "elapsed": 14,
     "status": "ok",
     "timestamp": 1624524272828,
     "user": {
      "displayName": "SANSKRITI SANJAY KUMAR SINGH 20BCE1415",
      "photoUrl": "",
      "userId": "06048184602934112549"
     },
     "user_tz": -240
    },
    "id": "42uCqjJqPAVb",
    "outputId": "6e832753-7104-44da-fec8-5eac62421113"
   },
   "outputs": [
    {
     "data": {
      "text/plain": [
       "0.9438673984537591"
      ]
     },
     "execution_count": 28,
     "metadata": {
      "tags": []
     },
     "output_type": "execute_result"
    }
   ],
   "source": [
    "# R^2 regression score between hold out prices and predicted prices \n",
    "from sklearn.metrics import r2_score\n",
    "r2_score(cars_price_test_normal, price_predictions_test_normal, multioutput='variance_weighted') "
   ]
  },
  {
   "cell_type": "markdown",
   "metadata": {
    "id": "FXSne9KTQm3x"
   },
   "source": [
    "### Decision Tree Regression"
   ]
  },
  {
   "cell_type": "code",
   "execution_count": 29,
   "metadata": {
    "executionInfo": {
     "elapsed": 11,
     "status": "ok",
     "timestamp": 1624524272828,
     "user": {
      "displayName": "SANSKRITI SANJAY KUMAR SINGH 20BCE1415",
      "photoUrl": "",
      "userId": "06048184602934112549"
     },
     "user_tz": -240
    },
    "id": "mVYcQeg9_XkT"
   },
   "outputs": [],
   "source": [
    "from sklearn.tree import DecisionTreeRegressor\n",
    "from sklearn.metrics import make_scorer\n",
    "\n",
    "# This function performs grid search over the 'max_depth' parameter for a \n",
    "# decision tree regressor trained on the input data [X, y]. \n",
    "\n",
    "def DT_SparkizedGridSearchCV(X, y):\n",
    "\n",
    "    # Create cross-validation sets from the training data\n",
    "    cv_sets = ShuffleSplit(n_splits = 10, test_size = 0.20, random_state = 42)\n",
    "\n",
    "    # Create a decision tree regressor object\n",
    "    regressor = DecisionTreeRegressor()\n",
    "\n",
    "    # Create a dictionary for the parameter 'max_depth' with a range from 1 to 10\n",
    "    params = {'max_depth':[1, 5, 10, 15, 16, 17]}\n",
    "\n",
    "    # Transform 'performance_metric' into a scoring function using 'make_scorer' \n",
    "    scoring_fnc = make_scorer(performance_metric)\n",
    "\n",
    "    # Create the grid search cv object --> GridSearchCV()\n",
    "    sc = createLocalSparkSession().sparkContext\n",
    "    grid = GridSearchCV(sc, estimator=regressor, param_grid=params, scoring=scoring_fnc, cv=cv_sets)\n",
    "\n",
    "    # Fit the grid search object to the data to compute the optimal model\n",
    "    tree_reg = grid.fit(X, y)\n",
    "    \n",
    "    # Return grid search output after fitting the data\n",
    "    return tree_reg"
   ]
  },
  {
   "cell_type": "code",
   "execution_count": 30,
   "metadata": {
    "colab": {
     "base_uri": "https://localhost:8080/"
    },
    "executionInfo": {
     "elapsed": 46252,
     "status": "ok",
     "timestamp": 1624524319070,
     "user": {
      "displayName": "SANSKRITI SANJAY KUMAR SINGH 20BCE1415",
      "photoUrl": "",
      "userId": "06048184602934112549"
     },
     "user_tz": -240
    },
    "id": "YLgVJnlAAco8",
    "outputId": "4502b1fa-acb0-4fe5-ffb5-ab41502d6035"
   },
   "outputs": [
    {
     "name": "stdout",
     "output_type": "stream",
     "text": [
      "Parameter 'max_depth' is 17 for the optimal model.\n"
     ]
    }
   ],
   "source": [
    "from sklearn.model_selection import ShuffleSplit\n",
    "\n",
    "# Fit the training data to the model using spark parallelized grid search CV\n",
    "tree_reg = DT_SparkizedGridSearchCV(cars_train, cars_price_train)\n",
    "\n",
    "# Taking best parameters\n",
    "bp = best_params(tree_reg)\n",
    "\n",
    "# Produce the optimal value for 'max_depth'\n",
    "print(\"Parameter 'max_depth' is {} for the optimal model.\".format(bp['max_depth']))"
   ]
  },
  {
   "cell_type": "code",
   "execution_count": 31,
   "metadata": {
    "colab": {
     "base_uri": "https://localhost:8080/"
    },
    "executionInfo": {
     "elapsed": 1527,
     "status": "ok",
     "timestamp": 1624524320579,
     "user": {
      "displayName": "SANSKRITI SANJAY KUMAR SINGH 20BCE1415",
      "photoUrl": "",
      "userId": "06048184602934112549"
     },
     "user_tz": -240
    },
    "id": "ulCp9_-nlIKv",
    "outputId": "134e4f0a-4a0a-416d-c95d-80b162ae57ca"
   },
   "outputs": [
    {
     "name": "stdout",
     "output_type": "stream",
     "text": [
      "CPU times: user 1.38 s, sys: 0 ns, total: 1.38 s\n",
      "Wall time: 1.37 s\n"
     ]
    },
    {
     "data": {
      "text/plain": [
       "DecisionTreeRegressor(criterion='mse', max_depth=17, max_features=None,\n",
       "           max_leaf_nodes=None, min_impurity_decrease=0.0,\n",
       "           min_impurity_split=None, min_samples_leaf=1,\n",
       "           min_samples_split=2, min_weight_fraction_leaf=0.0,\n",
       "           presort=False, random_state=None, splitter='best')"
      ]
     },
     "execution_count": 31,
     "metadata": {
      "tags": []
     },
     "output_type": "execute_result"
    }
   ],
   "source": [
    "# Due to the limitation of the spark-sklearn library's implementation of\n",
    "# GridSearchCV, best_estimator_ parameter it's not available, so we need to\n",
    "# fit a DecisionTreeRegressor on the best parameters given to us by gridSearchCV\n",
    "\n",
    "tree_reg_model = DecisionTreeRegressor(\n",
    "                              max_depth=bp['max_depth'])\n",
    "%time tree_reg_model.fit(cars_train, cars_price_train)"
   ]
  },
  {
   "cell_type": "code",
   "execution_count": 32,
   "metadata": {
    "colab": {
     "base_uri": "https://localhost:8080/"
    },
    "executionInfo": {
     "elapsed": 13,
     "status": "ok",
     "timestamp": 1624524320580,
     "user": {
      "displayName": "SANSKRITI SANJAY KUMAR SINGH 20BCE1415",
      "photoUrl": "",
      "userId": "06048184602934112549"
     },
     "user_tz": -240
    },
    "id": "dtz23jn9lIH9",
    "outputId": "cbd87fc6-9fd2-417c-ba12-15d8838a5f65"
   },
   "outputs": [
    {
     "name": "stdout",
     "output_type": "stream",
     "text": [
      "Best Decision Tree Regressor parameters:\n",
      "{'max_depth': 17}\n",
      "\n",
      "Decision Tree Regressor score without CV on train set: 0.949\n",
      "Decision Tree Regressor score without CV on test set: 0.930\n",
      "Decision Tree Regressor Best score with CV=10: 0.931\n"
     ]
    }
   ],
   "source": [
    "# DecisionTreeRegressor score for price prediction\n",
    "\n",
    "print(\"Best Decision Tree Regressor parameters:\")\n",
    "print(bp)\n",
    "print(\"\\nDecision Tree Regressor score without CV on train set: %.3f\" % tree_reg_model.score(cars_train, cars_price_train)) #score on train set\n",
    "print(\"Decision Tree Regressor score without CV on test set: %.3f\" % tree_reg_model.score(cars_test, cars_price_test)) # score on test set\n",
    "print(\"Decision Tree Regressor Best score with CV=10: %.3f\" % best_score(tree_reg, 10)) # -> best score on test set is high"
   ]
  },
  {
   "cell_type": "code",
   "execution_count": 33,
   "metadata": {
    "colab": {
     "base_uri": "https://localhost:8080/"
    },
    "executionInfo": {
     "elapsed": 7,
     "status": "ok",
     "timestamp": 1624524320580,
     "user": {
      "displayName": "SANSKRITI SANJAY KUMAR SINGH 20BCE1415",
      "photoUrl": "",
      "userId": "06048184602934112549"
     },
     "user_tz": -240
    },
    "id": "TTzbp7nklIFX",
    "outputId": "ac07e4e2-24f5-4e6c-b254-2df878e11143"
   },
   "outputs": [
    {
     "data": {
      "text/plain": [
       "2438.805253296204"
      ]
     },
     "execution_count": 33,
     "metadata": {
      "tags": []
     },
     "output_type": "execute_result"
    }
   ],
   "source": [
    "# Prediction on whole training set with the final model given by the best CV parameters\n",
    "price_predictions_train = tree_reg_model.predict(cars_train) \n",
    "\n",
    "# Reversing np.log operation\n",
    "price_predictions_train_normal = np.exp(price_predictions_train)\n",
    "cars_price_train_normal = np.exp(cars_price_train)\n",
    "\n",
    "# MSE between target values (i.e known) and predicted values\n",
    "lin_mse = mean_squared_error(cars_price_train_normal, price_predictions_train_normal)\n",
    "lin_rmse = np.sqrt(lin_mse)\n",
    "lin_rmse "
   ]
  },
  {
   "cell_type": "code",
   "execution_count": 34,
   "metadata": {
    "colab": {
     "base_uri": "https://localhost:8080/"
    },
    "executionInfo": {
     "elapsed": 412,
     "status": "ok",
     "timestamp": 1624524320989,
     "user": {
      "displayName": "SANSKRITI SANJAY KUMAR SINGH 20BCE1415",
      "photoUrl": "",
      "userId": "06048184602934112549"
     },
     "user_tz": -240
    },
    "id": "Ie3JJ--K3H43",
    "outputId": "0c28d6d2-e6d8-49d2-a796-88751474c061"
   },
   "outputs": [
    {
     "name": "stdout",
     "output_type": "stream",
     "text": [
      "[46410.9161647  15140.92013303 23604.93919515 26968.62968701\n",
      " 25458.8409949  13832.74746199 62580.15299687 12876.00829602\n",
      " 22918.37949149 16002.9971716 ]\n",
      "\n",
      "\n",
      "[40997.0, 15500.00000000001, 23994.99999999999, 28575.999999999978, 28902.999999999993, 12399.999999999996, 64993.99999999994, 11989.99999999999, 22994.999999999996, 14998.000000000002]\n"
     ]
    }
   ],
   "source": [
    "print(price_predictions_train_normal[1670:1680])\n",
    "print('\\n')\n",
    "print(list(cars_price_train_normal[1670:1680]))"
   ]
  },
  {
   "cell_type": "code",
   "execution_count": 35,
   "metadata": {
    "colab": {
     "base_uri": "https://localhost:8080/"
    },
    "executionInfo": {
     "elapsed": 21,
     "status": "ok",
     "timestamp": 1624524320990,
     "user": {
      "displayName": "SANSKRITI SANJAY KUMAR SINGH 20BCE1415",
      "photoUrl": "",
      "userId": "06048184602934112549"
     },
     "user_tz": -240
    },
    "id": "0nlUGpGRhW5V",
    "outputId": "36bce447-3821-4b42-96ea-a632622a734f"
   },
   "outputs": [
    {
     "data": {
      "text/plain": [
       "3160.7621493842207"
      ]
     },
     "execution_count": 35,
     "metadata": {
      "tags": []
     },
     "output_type": "execute_result"
    }
   ],
   "source": [
    "# Prediction on test set\n",
    "price_predictions_test = tree_reg_model.predict(cars_test)\n",
    "\n",
    "# Reversing np.log operation\n",
    "price_predictions_test_normal = np.exp(price_predictions_test)\n",
    "cars_price_test_normal = np.exp(cars_price_test)\n",
    "\n",
    "final_mse = mean_squared_error(cars_price_test_normal, price_predictions_test_normal)\n",
    "final_rmse = np.sqrt(final_mse)\n",
    "\n",
    "final_rmse"
   ]
  },
  {
   "cell_type": "code",
   "execution_count": 36,
   "metadata": {
    "colab": {
     "base_uri": "https://localhost:8080/"
    },
    "executionInfo": {
     "elapsed": 16,
     "status": "ok",
     "timestamp": 1624524320991,
     "user": {
      "displayName": "SANSKRITI SANJAY KUMAR SINGH 20BCE1415",
      "photoUrl": "",
      "userId": "06048184602934112549"
     },
     "user_tz": -240
    },
    "id": "a1qEltq2hW5a",
    "outputId": "891b6cf3-8011-434c-c869-9986ed37c79d"
   },
   "outputs": [
    {
     "name": "stdout",
     "output_type": "stream",
     "text": [
      "[15816.97837917 26968.62968701 21798.24986954 14677.83327566\n",
      " 17703.06484765  8700.         31594.53691537 15816.97837917\n",
      " 22043.31240188 12551.5251707 ]\n",
      "\n",
      "\n",
      "[15960.000000000011, 26975.000000000004, 21794.99999999998, 13221.000000000005, 21932.0, 9499.999999999995, 31494.99999999998, 14899.999999999995, 20887.000000000015, 11613.999999999995]\n"
     ]
    }
   ],
   "source": [
    "print(price_predictions_test_normal[1939:1949]) #predictions on test set\n",
    "print('\\n')\n",
    "print(list(cars_price_test_normal[1939:1949])) #known values in test set"
   ]
  },
  {
   "cell_type": "code",
   "execution_count": 37,
   "metadata": {
    "colab": {
     "base_uri": "https://localhost:8080/"
    },
    "executionInfo": {
     "elapsed": 12,
     "status": "ok",
     "timestamp": 1624524320991,
     "user": {
      "displayName": "SANSKRITI SANJAY KUMAR SINGH 20BCE1415",
      "photoUrl": "",
      "userId": "06048184602934112549"
     },
     "user_tz": -240
    },
    "id": "MSy2VhUUNki3",
    "outputId": "68836432-152c-4ddf-8447-ddb22acb9d81"
   },
   "outputs": [
    {
     "data": {
      "text/plain": [
       "0.9066326981600589"
      ]
     },
     "execution_count": 37,
     "metadata": {
      "tags": []
     },
     "output_type": "execute_result"
    }
   ],
   "source": [
    "# R^2 regression score between hold out prices and predicted prices\n",
    "from sklearn.metrics import r2_score\n",
    "r2_score(cars_price_test_normal, price_predictions_test_normal, multioutput='variance_weighted') "
   ]
  },
  {
   "cell_type": "markdown",
   "metadata": {
    "id": "i2yNpxXDTcLK"
   },
   "source": [
    "### Random Forest Regression"
   ]
  },
  {
   "cell_type": "code",
   "execution_count": 38,
   "metadata": {
    "colab": {
     "base_uri": "https://localhost:8080/"
    },
    "executionInfo": {
     "elapsed": 9,
     "status": "ok",
     "timestamp": 1624524320991,
     "user": {
      "displayName": "SANSKRITI SANJAY KUMAR SINGH 20BCE1415",
      "photoUrl": "",
      "userId": "06048184602934112549"
     },
     "user_tz": -240
    },
    "id": "DpleScb00LBm",
    "outputId": "96a9d1ac-256d-4b0f-f0d8-45cc9a5d42fa"
   },
   "outputs": [
    {
     "name": "stderr",
     "output_type": "stream",
     "text": [
      "/usr/local/lib/python3.7/dist-packages/sklearn/ensemble/weight_boosting.py:29: DeprecationWarning: numpy.core.umath_tests is an internal NumPy module and should not be imported. It will be removed in a future NumPy release.\n",
      "  from numpy.core.umath_tests import inner1d\n"
     ]
    }
   ],
   "source": [
    "from sklearn.ensemble import RandomForestRegressor\n",
    "from sklearn.metrics import make_scorer\n",
    "\n",
    "# This function performs grid search over the 'max_depth' parameter for a \n",
    "# random forest regressor trained on the input data [X, y]. \n",
    "\n",
    "def RF_SparkizedGridSearchCV(X, y):\n",
    "  \n",
    "    # Create cross-validation sets from the training data\n",
    "    cv_sets = ShuffleSplit(n_splits = 10, test_size = 0.20, random_state = 42)\n",
    "\n",
    "    # Create a random forest regressor object\n",
    "    regressor = RandomForestRegressor()\n",
    "\n",
    "    # Create a dictionary for the parameter 'max_depth' with a range from 1 to 10\n",
    "    params = {'max_depth':[16, 17, 18]}\n",
    "\n",
    "    # Transform 'performance_metric' into a scoring function using 'make_scorer' \n",
    "    scoring_fnc = make_scorer(performance_metric)\n",
    "\n",
    "    # Create the grid search cv object --> GridSearchCV()\n",
    "    sc = createLocalSparkSession().sparkContext\n",
    "    grid = GridSearchCV(sc, estimator=regressor, param_grid=params, scoring=scoring_fnc, cv=cv_sets)\n",
    "\n",
    "    # Fit the grid search object to the data to compute the optimal model\n",
    "    tree_reg = grid.fit(X, y)\n",
    "    \n",
    "    # Return the best parameters after fitting the data\n",
    "    return tree_reg"
   ]
  },
  {
   "cell_type": "code",
   "execution_count": 39,
   "metadata": {
    "colab": {
     "base_uri": "https://localhost:8080/"
    },
    "executionInfo": {
     "elapsed": 212381,
     "status": "ok",
     "timestamp": 1624524533365,
     "user": {
      "displayName": "SANSKRITI SANJAY KUMAR SINGH 20BCE1415",
      "photoUrl": "",
      "userId": "06048184602934112549"
     },
     "user_tz": -240
    },
    "id": "Z_h0DIqn0LBo",
    "outputId": "d058cf3a-e103-4bed-ab71-29780c0ce523"
   },
   "outputs": [
    {
     "name": "stdout",
     "output_type": "stream",
     "text": [
      "Parameter 'max_depth' is 18 for the optimal model.\n"
     ]
    }
   ],
   "source": [
    "from sklearn.model_selection import ShuffleSplit\n",
    "\n",
    "# Fit the training data to the model using spark parallelized grid search CV\n",
    "forest_reg = RF_SparkizedGridSearchCV(cars_train, cars_price_train)\n",
    "\n",
    "# Taking best parameters\n",
    "bp = best_params(forest_reg)\n",
    "\n",
    "# Produce the optimal value for 'max_depth'\n",
    "print(\"Parameter 'max_depth' is {} for the optimal model.\".format(bp['max_depth']))"
   ]
  },
  {
   "cell_type": "code",
   "execution_count": 40,
   "metadata": {
    "colab": {
     "base_uri": "https://localhost:8080/"
    },
    "executionInfo": {
     "elapsed": 10019,
     "status": "ok",
     "timestamp": 1624524543364,
     "user": {
      "displayName": "SANSKRITI SANJAY KUMAR SINGH 20BCE1415",
      "photoUrl": "",
      "userId": "06048184602934112549"
     },
     "user_tz": -240
    },
    "id": "S-kfF8VjlICt",
    "outputId": "c100b00f-175f-4d07-f320-d596c962ed02"
   },
   "outputs": [
    {
     "name": "stdout",
     "output_type": "stream",
     "text": [
      "CPU times: user 9.85 s, sys: 0 ns, total: 9.85 s\n",
      "Wall time: 9.79 s\n"
     ]
    },
    {
     "data": {
      "text/plain": [
       "RandomForestRegressor(bootstrap=True, criterion='mse', max_depth=18,\n",
       "           max_features='auto', max_leaf_nodes=None,\n",
       "           min_impurity_decrease=0.0, min_impurity_split=None,\n",
       "           min_samples_leaf=1, min_samples_split=2,\n",
       "           min_weight_fraction_leaf=0.0, n_estimators=10, n_jobs=1,\n",
       "           oob_score=False, random_state=None, verbose=0, warm_start=False)"
      ]
     },
     "execution_count": 40,
     "metadata": {
      "tags": []
     },
     "output_type": "execute_result"
    }
   ],
   "source": [
    "# Fitting the forest\n",
    "\n",
    "forest_reg_model = RandomForestRegressor(\n",
    "                              max_depth=bp['max_depth']\n",
    "                                 \n",
    ")\n",
    "\n",
    "%time forest_reg_model.fit(cars_train, cars_price_train)"
   ]
  },
  {
   "cell_type": "code",
   "execution_count": 41,
   "metadata": {
    "colab": {
     "base_uri": "https://localhost:8080/"
    },
    "executionInfo": {
     "elapsed": 1647,
     "status": "ok",
     "timestamp": 1624524545005,
     "user": {
      "displayName": "SANSKRITI SANJAY KUMAR SINGH 20BCE1415",
      "photoUrl": "",
      "userId": "06048184602934112549"
     },
     "user_tz": -240
    },
    "id": "iKGLVyJx5SeD",
    "outputId": "899a765f-9705-4be1-b027-6bbf65ed8499"
   },
   "outputs": [
    {
     "name": "stdout",
     "output_type": "stream",
     "text": [
      "{'max_depth': 18}\n",
      "\n",
      "Random Forest Regressor score without CV on train set: 0.962\n",
      "Random Forest Regressor score without CV on test set: 0.946\n",
      "Random Forest Regressor Best score with CV=4: 0.946\n"
     ]
    }
   ],
   "source": [
    "# RandomForestRegressor score for price prediction\n",
    "\n",
    "print(bp)\n",
    "print(\"\\nRandom Forest Regressor score without CV on train set: %.3f\" % forest_reg_model.score(cars_train, cars_price_train)) #score on train set\n",
    "print(\"Random Forest Regressor score without CV on test set: %.3f\" % forest_reg_model.score(cars_test, cars_price_test)) #score on test set\n",
    "print(\"Random Forest Regressor Best score with CV=4: %.3f\" % best_score(forest_reg, 4)) # -> best score on test set is high"
   ]
  },
  {
   "cell_type": "code",
   "execution_count": 42,
   "metadata": {
    "colab": {
     "base_uri": "https://localhost:8080/"
    },
    "executionInfo": {
     "elapsed": 1040,
     "status": "ok",
     "timestamp": 1624524546043,
     "user": {
      "displayName": "SANSKRITI SANJAY KUMAR SINGH 20BCE1415",
      "photoUrl": "",
      "userId": "06048184602934112549"
     },
     "user_tz": -240
    },
    "id": "sGs7xINS5Sj_",
    "outputId": "70c2cb53-b6c9-4acd-e964-b279e4c882d6"
   },
   "outputs": [
    {
     "data": {
      "text/plain": [
       "2211.9047553644486"
      ]
     },
     "execution_count": 42,
     "metadata": {
      "tags": []
     },
     "output_type": "execute_result"
    }
   ],
   "source": [
    "# Prediction on whole training set\n",
    "price_predictions_train = forest_reg_model.predict(cars_train) #using the whole training set for making prediction with the final model given by the best CV parameters\n",
    "\n",
    "# Reversing np.log operation\n",
    "price_predictions_train_normal = np.exp(price_predictions_train)\n",
    "cars_price_train_normal = np.exp(cars_price_train)\n",
    "\n",
    "# MSE between target values (i.e known) and predicted values\n",
    "lin_mse = mean_squared_error(cars_price_train_normal, price_predictions_train_normal)\n",
    "lin_rmse = np.sqrt(lin_mse)\n",
    "lin_rmse "
   ]
  },
  {
   "cell_type": "code",
   "execution_count": 43,
   "metadata": {
    "colab": {
     "base_uri": "https://localhost:8080/"
    },
    "executionInfo": {
     "elapsed": 7,
     "status": "ok",
     "timestamp": 1624524546044,
     "user": {
      "displayName": "SANSKRITI SANJAY KUMAR SINGH 20BCE1415",
      "photoUrl": "",
      "userId": "06048184602934112549"
     },
     "user_tz": -240
    },
    "id": "GLaWB-GzD2Rd",
    "outputId": "0a7cf1c5-ddd2-4855-9094-26fcc456fd3e"
   },
   "outputs": [
    {
     "name": "stdout",
     "output_type": "stream",
     "text": [
      "[14061.76521865 19683.06657528 16013.37336972 14871.34843627\n",
      " 39137.87336305 13185.70223213 16824.92418112 13903.47707999\n",
      " 19431.53122588 27099.26618374]\n",
      "\n",
      "\n",
      "[15275.00000000001, 20495.99999999998, 15190.00000000001, 16995.00000000001, 37844.99999999997, 13499.999999999996, 17994.999999999993, 12500.0, 17499.00000000001, 24491.000000000007]\n"
     ]
    }
   ],
   "source": [
    "print(price_predictions_train_normal[25670:25680])\n",
    "print('\\n')\n",
    "print(list(cars_price_train_normal[25670:25680]))"
   ]
  },
  {
   "cell_type": "code",
   "execution_count": 44,
   "metadata": {
    "colab": {
     "base_uri": "https://localhost:8080/"
    },
    "executionInfo": {
     "elapsed": 882,
     "status": "ok",
     "timestamp": 1624524546923,
     "user": {
      "displayName": "SANSKRITI SANJAY KUMAR SINGH 20BCE1415",
      "photoUrl": "",
      "userId": "06048184602934112549"
     },
     "user_tz": -240
    },
    "id": "KjytVOPVjBKZ",
    "outputId": "1423be9d-e696-489a-fbc0-43a02308c9b5"
   },
   "outputs": [
    {
     "data": {
      "text/plain": [
       "2765.368980973027"
      ]
     },
     "execution_count": 44,
     "metadata": {
      "tags": []
     },
     "output_type": "execute_result"
    }
   ],
   "source": [
    "# Prediction on test set\n",
    "price_predictions_test = forest_reg_model.predict(cars_test)\n",
    "\n",
    "# Reversing np.log operation\n",
    "price_predictions_test_normal = np.exp(price_predictions_test)\n",
    "cars_price_test_normal = np.exp(cars_price_test)\n",
    "\n",
    "final_mse = mean_squared_error(cars_price_test_normal, price_predictions_test_normal)\n",
    "final_rmse = np.sqrt(final_mse)\n",
    "\n",
    "final_rmse"
   ]
  },
  {
   "cell_type": "code",
   "execution_count": 45,
   "metadata": {
    "colab": {
     "base_uri": "https://localhost:8080/"
    },
    "executionInfo": {
     "elapsed": 9,
     "status": "ok",
     "timestamp": 1624524546923,
     "user": {
      "displayName": "SANSKRITI SANJAY KUMAR SINGH 20BCE1415",
      "photoUrl": "",
      "userId": "06048184602934112549"
     },
     "user_tz": -240
    },
    "id": "Fx1bGZNtjDac",
    "outputId": "c64c5b55-d1b9-4d63-ec56-8349cdc321f2"
   },
   "outputs": [
    {
     "name": "stdout",
     "output_type": "stream",
     "text": [
      "[65023.49841155 15408.42232228 12410.79521011 24387.10014802\n",
      " 23735.18718594 19797.47738623 28375.66386148 16670.57015332\n",
      " 16356.11536583 15367.89181753]\n",
      "\n",
      "\n",
      "[58950.00000000004, 13997.999999999995, 10775.00000000001, 22999.999999999993, 28854.99999999999, 17585.000000000007, 28921.00000000002, 17294.0, 18991.000000000015, 16162.000000000004]\n"
     ]
    }
   ],
   "source": [
    "print(price_predictions_test_normal[1870:1880]) #predictions on test set\n",
    "print('\\n')\n",
    "print(list(cars_price_test_normal[1870:1880])) #known values in test set"
   ]
  },
  {
   "cell_type": "code",
   "execution_count": 46,
   "metadata": {
    "colab": {
     "base_uri": "https://localhost:8080/"
    },
    "executionInfo": {
     "elapsed": 7,
     "status": "ok",
     "timestamp": 1624524546924,
     "user": {
      "displayName": "SANSKRITI SANJAY KUMAR SINGH 20BCE1415",
      "photoUrl": "",
      "userId": "06048184602934112549"
     },
     "user_tz": -240
    },
    "id": "KsluMeS-lWUq",
    "outputId": "9ca24b1c-539c-49c4-b416-35ac4f3e9115"
   },
   "outputs": [
    {
     "data": {
      "text/plain": [
       "0.9285310583604977"
      ]
     },
     "execution_count": 46,
     "metadata": {
      "tags": []
     },
     "output_type": "execute_result"
    }
   ],
   "source": [
    "# R^2 regression score between hold out prices and predicted prices\n",
    "r2_score(cars_price_test_normal, price_predictions_test_normal, multioutput='variance_weighted') "
   ]
  },
  {
   "cell_type": "markdown",
   "metadata": {
    "id": "oHyi5J1_ULhL"
   },
   "source": [
    "## Cross Validation "
   ]
  },
  {
   "cell_type": "code",
   "execution_count": 47,
   "metadata": {
    "executionInfo": {
     "elapsed": 4,
     "status": "ok",
     "timestamp": 1624524546924,
     "user": {
      "displayName": "SANSKRITI SANJAY KUMAR SINGH 20BCE1415",
      "photoUrl": "",
      "userId": "06048184602934112549"
     },
     "user_tz": -240
    },
    "id": "BTGotLf8Cooa"
   },
   "outputs": [],
   "source": [
    "def display_scores(scores):\n",
    "    print(\"Scores:\", scores)\n",
    "    print(\"Mean:\", scores.mean())\n",
    "    print(\"Standard deviation:\", scores.std())"
   ]
  },
  {
   "cell_type": "markdown",
   "metadata": {
    "id": "vKhmaVLFUQzn"
   },
   "source": [
    "### Linear Regression"
   ]
  },
  {
   "cell_type": "code",
   "execution_count": 48,
   "metadata": {
    "colab": {
     "base_uri": "https://localhost:8080/"
    },
    "executionInfo": {
     "elapsed": 178599,
     "status": "ok",
     "timestamp": 1624524725519,
     "user": {
      "displayName": "SANSKRITI SANJAY KUMAR SINGH 20BCE1415",
      "photoUrl": "",
      "userId": "06048184602934112549"
     },
     "user_tz": -240
    },
    "id": "jQjEyuqR0Xta",
    "outputId": "ac314415-f9b6-47a1-8318-ced0b9774a52"
   },
   "outputs": [
    {
     "name": "stdout",
     "output_type": "stream",
     "text": [
      "Scores: [2511.16403533 2507.64383075 2503.00190225 2570.6978191  2837.54811306\n",
      " 2508.55138873 2665.38489349 2564.91373215 2658.98436036 2585.36184036]\n",
      "Mean: 2591.3251915586393\n",
      "Standard deviation: 99.96390942170886\n"
     ]
    }
   ],
   "source": [
    "# Cross val score on training set\n",
    "\n",
    "train_scores = cross_val_score(lin_reg_model, ohe_cars_train, np.exp(cars_price_train),\n",
    "                         scoring=\"neg_mean_squared_error\", cv=10)\n",
    "tree_rmse_scores = np.sqrt(-train_scores)\n",
    "\n",
    "display_scores(tree_rmse_scores)"
   ]
  },
  {
   "cell_type": "markdown",
   "metadata": {
    "id": "q3Nz0NimUVoC"
   },
   "source": [
    "### Decision Tree Regression"
   ]
  },
  {
   "cell_type": "code",
   "execution_count": 49,
   "metadata": {
    "colab": {
     "base_uri": "https://localhost:8080/"
    },
    "executionInfo": {
     "elapsed": 12813,
     "status": "ok",
     "timestamp": 1624524738320,
     "user": {
      "displayName": "SANSKRITI SANJAY KUMAR SINGH 20BCE1415",
      "photoUrl": "",
      "userId": "06048184602934112549"
     },
     "user_tz": -240
    },
    "id": "-1l2DA89mtm1",
    "outputId": "a50ea5c2-ca1e-4c86-aade-3263360c21c2"
   },
   "outputs": [
    {
     "name": "stdout",
     "output_type": "stream",
     "text": [
      "Scores: [2696.87595687 3037.32820464 2897.5985634  3427.60381124 3341.84638881\n",
      " 2854.09935897 3167.30626662 2929.34425399 3533.94756845 2920.27513081]\n",
      "Mean: 3080.6225503790783\n",
      "Standard deviation: 261.57108597970387\n"
     ]
    }
   ],
   "source": [
    "# Cross val score on training set\n",
    "\n",
    "train_scores = cross_val_score(tree_reg_model, cars_train, np.exp(cars_price_train),\n",
    "                         scoring=\"neg_mean_squared_error\", cv=10)\n",
    "tree_rmse_scores = np.sqrt(-train_scores)\n",
    "\n",
    "display_scores(tree_rmse_scores)"
   ]
  },
  {
   "cell_type": "markdown",
   "metadata": {
    "id": "qN7qpuRNUZaD"
   },
   "source": [
    "### Random Forest Regression"
   ]
  },
  {
   "cell_type": "code",
   "execution_count": 50,
   "metadata": {
    "colab": {
     "base_uri": "https://localhost:8080/"
    },
    "executionInfo": {
     "elapsed": 88341,
     "status": "ok",
     "timestamp": 1624524826644,
     "user": {
      "displayName": "SANSKRITI SANJAY KUMAR SINGH 20BCE1415",
      "photoUrl": "",
      "userId": "06048184602934112549"
     },
     "user_tz": -240
    },
    "id": "xorVHVx3mvgf",
    "outputId": "712c857d-ead4-4f62-bedb-a7eb0ec9b12c"
   },
   "outputs": [
    {
     "name": "stdout",
     "output_type": "stream",
     "text": [
      "Scores: [2566.89817077 2553.6659989  2566.35606121 2884.85336817 2480.34922272\n",
      " 2854.26509875 2664.94947824 2534.50524374 2555.71775399 2739.76393727]\n",
      "Mean: 2640.132433377814\n",
      "Standard deviation: 133.55887349211537\n"
     ]
    }
   ],
   "source": [
    "from sklearn.model_selection import KFold\n",
    "\n",
    "# Cross val score on training set, although we already used grid search CV\n",
    "\n",
    "train_scores = cross_val_score(forest_reg_model, cars_train, np.exp(cars_price_train),\n",
    "                         scoring=\"neg_mean_squared_error\", cv=KFold(10, shuffle=True))\n",
    "forest_rmse_scores = np.sqrt(-train_scores)\n",
    "\n",
    "display_scores(forest_rmse_scores)"
   ]
  }
 ],
 "metadata": {
  "accelerator": "GPU",
  "colab": {
   "collapsed_sections": [],
   "name": "used_car_price_prediction.ipynb",
   "provenance": []
  },
  "kernelspec": {
   "display_name": "Python 3 (ipykernel)",
   "language": "python",
   "name": "python3"
  },
  "language_info": {
   "codemirror_mode": {
    "name": "ipython",
    "version": 3
   },
   "file_extension": ".py",
   "mimetype": "text/x-python",
   "name": "python",
   "nbconvert_exporter": "python",
   "pygments_lexer": "ipython3",
   "version": "3.11.0"
  }
 },
 "nbformat": 4,
 "nbformat_minor": 4
}
